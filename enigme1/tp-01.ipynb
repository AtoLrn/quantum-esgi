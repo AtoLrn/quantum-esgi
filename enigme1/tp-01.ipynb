{
 "cells": [
  {
   "cell_type": "code",
   "execution_count": 21,
   "metadata": {},
   "outputs": [
    {
     "name": "stdout",
     "output_type": "stream",
     "text": [
      "Requirement already satisfied: qiskit in /opt/conda/lib/python3.11/site-packages (0.45.0)\n",
      "Requirement already satisfied: qiskit-terra==0.45.0 in /opt/conda/lib/python3.11/site-packages (from qiskit) (0.45.0)\n",
      "Requirement already satisfied: rustworkx>=0.13.0 in /opt/conda/lib/python3.11/site-packages (from qiskit-terra==0.45.0->qiskit) (0.13.2)\n",
      "Requirement already satisfied: numpy<2,>=1.17 in /opt/conda/lib/python3.11/site-packages (from qiskit-terra==0.45.0->qiskit) (1.24.4)\n",
      "Requirement already satisfied: ply>=3.10 in /opt/conda/lib/python3.11/site-packages (from qiskit-terra==0.45.0->qiskit) (3.11)\n",
      "Requirement already satisfied: psutil>=5 in /opt/conda/lib/python3.11/site-packages (from qiskit-terra==0.45.0->qiskit) (5.9.5)\n",
      "Requirement already satisfied: scipy>=1.5 in /opt/conda/lib/python3.11/site-packages (from qiskit-terra==0.45.0->qiskit) (1.11.2)\n",
      "Requirement already satisfied: sympy>=1.3 in /opt/conda/lib/python3.11/site-packages (from qiskit-terra==0.45.0->qiskit) (1.12)\n",
      "Requirement already satisfied: dill>=0.3 in /opt/conda/lib/python3.11/site-packages (from qiskit-terra==0.45.0->qiskit) (0.3.7)\n",
      "Requirement already satisfied: python-dateutil>=2.8.0 in /opt/conda/lib/python3.11/site-packages (from qiskit-terra==0.45.0->qiskit) (2.8.2)\n",
      "Requirement already satisfied: stevedore>=3.0.0 in /opt/conda/lib/python3.11/site-packages (from qiskit-terra==0.45.0->qiskit) (5.1.0)\n",
      "Requirement already satisfied: symengine<0.10,>=0.9 in /opt/conda/lib/python3.11/site-packages (from qiskit-terra==0.45.0->qiskit) (0.9.2)\n",
      "Requirement already satisfied: six>=1.5 in /opt/conda/lib/python3.11/site-packages (from python-dateutil>=2.8.0->qiskit-terra==0.45.0->qiskit) (1.16.0)\n",
      "Requirement already satisfied: pbr!=2.1.0,>=2.0.0 in /opt/conda/lib/python3.11/site-packages (from stevedore>=3.0.0->qiskit-terra==0.45.0->qiskit) (6.0.0)\n",
      "Requirement already satisfied: mpmath>=0.19 in /opt/conda/lib/python3.11/site-packages (from sympy>=1.3->qiskit-terra==0.45.0->qiskit) (1.3.0)\n",
      "Requirement already satisfied: pylatexenc in /opt/conda/lib/python3.11/site-packages (2.10)\n",
      "Requirement already satisfied: qiskit-aer in /opt/conda/lib/python3.11/site-packages (0.13.0)\n",
      "Requirement already satisfied: qiskit>=0.44.0 in /opt/conda/lib/python3.11/site-packages (from qiskit-aer) (0.45.0)\n",
      "Requirement already satisfied: numpy>=1.16.3 in /opt/conda/lib/python3.11/site-packages (from qiskit-aer) (1.24.4)\n",
      "Requirement already satisfied: scipy>=1.0 in /opt/conda/lib/python3.11/site-packages (from qiskit-aer) (1.11.2)\n",
      "Requirement already satisfied: qiskit-terra==0.45.0 in /opt/conda/lib/python3.11/site-packages (from qiskit>=0.44.0->qiskit-aer) (0.45.0)\n",
      "Requirement already satisfied: rustworkx>=0.13.0 in /opt/conda/lib/python3.11/site-packages (from qiskit-terra==0.45.0->qiskit>=0.44.0->qiskit-aer) (0.13.2)\n",
      "Requirement already satisfied: ply>=3.10 in /opt/conda/lib/python3.11/site-packages (from qiskit-terra==0.45.0->qiskit>=0.44.0->qiskit-aer) (3.11)\n",
      "Requirement already satisfied: psutil>=5 in /opt/conda/lib/python3.11/site-packages (from qiskit-terra==0.45.0->qiskit>=0.44.0->qiskit-aer) (5.9.5)\n",
      "Requirement already satisfied: sympy>=1.3 in /opt/conda/lib/python3.11/site-packages (from qiskit-terra==0.45.0->qiskit>=0.44.0->qiskit-aer) (1.12)\n",
      "Requirement already satisfied: dill>=0.3 in /opt/conda/lib/python3.11/site-packages (from qiskit-terra==0.45.0->qiskit>=0.44.0->qiskit-aer) (0.3.7)\n",
      "Requirement already satisfied: python-dateutil>=2.8.0 in /opt/conda/lib/python3.11/site-packages (from qiskit-terra==0.45.0->qiskit>=0.44.0->qiskit-aer) (2.8.2)\n",
      "Requirement already satisfied: stevedore>=3.0.0 in /opt/conda/lib/python3.11/site-packages (from qiskit-terra==0.45.0->qiskit>=0.44.0->qiskit-aer) (5.1.0)\n",
      "Requirement already satisfied: symengine<0.10,>=0.9 in /opt/conda/lib/python3.11/site-packages (from qiskit-terra==0.45.0->qiskit>=0.44.0->qiskit-aer) (0.9.2)\n",
      "Requirement already satisfied: six>=1.5 in /opt/conda/lib/python3.11/site-packages (from python-dateutil>=2.8.0->qiskit-terra==0.45.0->qiskit>=0.44.0->qiskit-aer) (1.16.0)\n",
      "Requirement already satisfied: pbr!=2.1.0,>=2.0.0 in /opt/conda/lib/python3.11/site-packages (from stevedore>=3.0.0->qiskit-terra==0.45.0->qiskit>=0.44.0->qiskit-aer) (6.0.0)\n",
      "Requirement already satisfied: mpmath>=0.19 in /opt/conda/lib/python3.11/site-packages (from sympy>=1.3->qiskit-terra==0.45.0->qiskit>=0.44.0->qiskit-aer) (1.3.0)\n",
      "Requirement already satisfied: qiskit_ibm_runtime in /opt/conda/lib/python3.11/site-packages (0.14.0)\n",
      "Requirement already satisfied: qiskit>=0.44.1 in /opt/conda/lib/python3.11/site-packages (from qiskit_ibm_runtime) (0.45.0)\n",
      "Requirement already satisfied: requests>=2.19 in /opt/conda/lib/python3.11/site-packages (from qiskit_ibm_runtime) (2.31.0)\n",
      "Requirement already satisfied: requests-ntlm>=1.1.0 in /opt/conda/lib/python3.11/site-packages (from qiskit_ibm_runtime) (1.2.0)\n",
      "Requirement already satisfied: numpy>=1.13 in /opt/conda/lib/python3.11/site-packages (from qiskit_ibm_runtime) (1.24.4)\n",
      "Requirement already satisfied: urllib3>=1.21.1 in /opt/conda/lib/python3.11/site-packages (from qiskit_ibm_runtime) (1.26.18)\n",
      "Requirement already satisfied: python-dateutil>=2.8.0 in /opt/conda/lib/python3.11/site-packages (from qiskit_ibm_runtime) (2.8.2)\n",
      "Requirement already satisfied: websocket-client>=1.5.1 in /opt/conda/lib/python3.11/site-packages (from qiskit_ibm_runtime) (1.6.3)\n",
      "Requirement already satisfied: ibm-platform-services>=0.22.6 in /opt/conda/lib/python3.11/site-packages (from qiskit_ibm_runtime) (0.46.1)\n",
      "Requirement already satisfied: qiskit-ibm-provider>=0.7.2 in /opt/conda/lib/python3.11/site-packages (from qiskit_ibm_runtime) (0.7.2)\n",
      "Requirement already satisfied: ibm-cloud-sdk-core<4.0.0,>=3.17.0 in /opt/conda/lib/python3.11/site-packages (from ibm-platform-services>=0.22.6->qiskit_ibm_runtime) (3.17.3)\n",
      "Requirement already satisfied: six>=1.5 in /opt/conda/lib/python3.11/site-packages (from python-dateutil>=2.8.0->qiskit_ibm_runtime) (1.16.0)\n",
      "Requirement already satisfied: qiskit-terra==0.45.0 in /opt/conda/lib/python3.11/site-packages (from qiskit>=0.44.1->qiskit_ibm_runtime) (0.45.0)\n",
      "Requirement already satisfied: rustworkx>=0.13.0 in /opt/conda/lib/python3.11/site-packages (from qiskit-terra==0.45.0->qiskit>=0.44.1->qiskit_ibm_runtime) (0.13.2)\n",
      "Requirement already satisfied: ply>=3.10 in /opt/conda/lib/python3.11/site-packages (from qiskit-terra==0.45.0->qiskit>=0.44.1->qiskit_ibm_runtime) (3.11)\n",
      "Requirement already satisfied: psutil>=5 in /opt/conda/lib/python3.11/site-packages (from qiskit-terra==0.45.0->qiskit>=0.44.1->qiskit_ibm_runtime) (5.9.5)\n",
      "Requirement already satisfied: scipy>=1.5 in /opt/conda/lib/python3.11/site-packages (from qiskit-terra==0.45.0->qiskit>=0.44.1->qiskit_ibm_runtime) (1.11.2)\n",
      "Requirement already satisfied: sympy>=1.3 in /opt/conda/lib/python3.11/site-packages (from qiskit-terra==0.45.0->qiskit>=0.44.1->qiskit_ibm_runtime) (1.12)\n",
      "Requirement already satisfied: dill>=0.3 in /opt/conda/lib/python3.11/site-packages (from qiskit-terra==0.45.0->qiskit>=0.44.1->qiskit_ibm_runtime) (0.3.7)\n",
      "Requirement already satisfied: stevedore>=3.0.0 in /opt/conda/lib/python3.11/site-packages (from qiskit-terra==0.45.0->qiskit>=0.44.1->qiskit_ibm_runtime) (5.1.0)\n",
      "Requirement already satisfied: symengine<0.10,>=0.9 in /opt/conda/lib/python3.11/site-packages (from qiskit-terra==0.45.0->qiskit>=0.44.1->qiskit_ibm_runtime) (0.9.2)\n",
      "Requirement already satisfied: websockets>=10.0 in /opt/conda/lib/python3.11/site-packages (from qiskit-ibm-provider>=0.7.2->qiskit_ibm_runtime) (12.0)\n",
      "Requirement already satisfied: typing-extensions>=4.3 in /opt/conda/lib/python3.11/site-packages (from qiskit-ibm-provider>=0.7.2->qiskit_ibm_runtime) (4.8.0)\n",
      "Requirement already satisfied: charset-normalizer<4,>=2 in /opt/conda/lib/python3.11/site-packages (from requests>=2.19->qiskit_ibm_runtime) (3.2.0)\n",
      "Requirement already satisfied: idna<4,>=2.5 in /opt/conda/lib/python3.11/site-packages (from requests>=2.19->qiskit_ibm_runtime) (3.4)\n",
      "Requirement already satisfied: certifi>=2017.4.17 in /opt/conda/lib/python3.11/site-packages (from requests>=2.19->qiskit_ibm_runtime) (2023.7.22)\n",
      "Requirement already satisfied: cryptography>=1.3 in /opt/conda/lib/python3.11/site-packages (from requests-ntlm>=1.1.0->qiskit_ibm_runtime) (41.0.4)\n",
      "Requirement already satisfied: pyspnego>=0.1.6 in /opt/conda/lib/python3.11/site-packages (from requests-ntlm>=1.1.0->qiskit_ibm_runtime) (0.10.2)\n",
      "Requirement already satisfied: cffi>=1.12 in /opt/conda/lib/python3.11/site-packages (from cryptography>=1.3->requests-ntlm>=1.1.0->qiskit_ibm_runtime) (1.15.1)\n",
      "Requirement already satisfied: PyJWT<3.0.0,>=2.8.0 in /opt/conda/lib/python3.11/site-packages (from ibm-cloud-sdk-core<4.0.0,>=3.17.0->ibm-platform-services>=0.22.6->qiskit_ibm_runtime) (2.8.0)\n",
      "Requirement already satisfied: pycparser in /opt/conda/lib/python3.11/site-packages (from cffi>=1.12->cryptography>=1.3->requests-ntlm>=1.1.0->qiskit_ibm_runtime) (2.21)\n",
      "Requirement already satisfied: pbr!=2.1.0,>=2.0.0 in /opt/conda/lib/python3.11/site-packages (from stevedore>=3.0.0->qiskit-terra==0.45.0->qiskit>=0.44.1->qiskit_ibm_runtime) (6.0.0)\n",
      "Requirement already satisfied: mpmath>=0.19 in /opt/conda/lib/python3.11/site-packages (from sympy>=1.3->qiskit-terra==0.45.0->qiskit>=0.44.1->qiskit_ibm_runtime) (1.3.0)\n"
     ]
    }
   ],
   "source": [
    "!pip install qiskit\n",
    "!pip install pylatexenc\n",
    "!pip install qiskit-aer\n",
    "!pip install qiskit_ibm_runtime"
   ]
  },
  {
   "cell_type": "code",
   "execution_count": 22,
   "metadata": {},
   "outputs": [],
   "source": [
    "import numpy as np\n",
    "from qiskit import* "
   ]
  },
  {
   "cell_type": "code",
   "execution_count": 23,
   "metadata": {},
   "outputs": [
    {
     "name": "stderr",
     "output_type": "stream",
     "text": [
      "/opt/conda/lib/python3.11/site-packages/qiskit/visualization/circuit/matplotlib.py:266: FutureWarning: The default matplotlib drawer scheme will be changed to \"iqp\" in a following release. To silence this warning, specify the current default explicitly as style=\"clifford\", or the new default as style=\"iqp\".\n",
      "  self._style, def_font_ratio = load_style(self._style)\n"
     ]
    },
    {
     "data": {
      "image/png": "[encoded data removed]",
      "text/plain": [
       "<Figure size 162.08x284.278 with 1 Axes>"
      ]
     },
     "execution_count": 23,
     "metadata": {},
     "output_type": "execute_result"
    }
   ],
   "source": [
    "# CREATE QUANTIC CIRCUIT\n",
    "circ = QuantumCircuit(3)\n",
    "\n",
    "# DISPLAY CIRCUIT\n",
    "circ.draw('mpl')"
   ]
  },
  {
   "cell_type": "code",
   "execution_count": 24,
   "metadata": {},
   "outputs": [
    {
     "data": {
      "image/png": "[encoded data removed]",
      "text/plain": [
       "<Figure size 203.885x284.278 with 1 Axes>"
      ]
     },
     "execution_count": 24,
     "metadata": {},
     "output_type": "execute_result"
    }
   ],
   "source": [
    "# H = HADAMARD DOOR = SUPERPOSITION OF QUBIT\n",
    "circ.h(0)\n",
    "\n",
    "circ.draw('mpl')"
   ]
  },
  {
   "cell_type": "code",
   "execution_count": 25,
   "metadata": {},
   "outputs": [
    {
     "data": {
      "image/png": "[encoded data removed]",
      "text/plain": [
       "<Figure size 287.496x284.278 with 1 Axes>"
      ]
     },
     "execution_count": 25,
     "metadata": {},
     "output_type": "execute_result"
    }
   ],
   "source": [
    "# INTRICATE QUBIT\n",
    "# CX = CNOT Control Not \n",
    "circ.cx(0,1)\n",
    "\n",
    "circ.draw('mpl')"
   ]
  },
  {
   "cell_type": "code",
   "execution_count": 26,
   "metadata": {},
   "outputs": [
    {
     "data": {
      "image/png": "[encoded data removed]",
      "text/plain": [
       "<Figure size 371.107x284.278 with 1 Axes>"
      ]
     },
     "execution_count": 26,
     "metadata": {},
     "output_type": "execute_result"
    }
   ],
   "source": [
    "# INTRICATION\n",
    "circ.cx(0,2)\n",
    "circ.draw('mpl')"
   ]
  },
  {
   "cell_type": "code",
   "execution_count": 27,
   "metadata": {},
   "outputs": [
    {
     "data": {
      "image/png": "[encoded data removed]",
      "text/plain": [
       "<Figure size 287.294x200.667 with 1 Axes>"
      ]
     },
     "execution_count": 27,
     "metadata": {},
     "output_type": "execute_result"
    }
   ],
   "source": [
    "from qiskit import QuantumCircuit\n",
    " \n",
    "# Create a new circuit with two qubits (first argument) and two classical\n",
    "# bits (second argument)\n",
    "qc = QuantumCircuit(2)\n",
    " \n",
    "# Add a Hadamard gate to qubit 0\n",
    "qc.h(0)\n",
    " \n",
    "# Perform a controlled-X gate on qubit 1, controlled by qubit 0\n",
    "qc.cx(0, 1)\n",
    " \n",
    "# Return a drawing of the circuit using MatPlotLib (\"mpl\"). This is the\n",
    "# last line of the cell, so the drawing appears in the cell output.\n",
    "# Remove the \"mpl\" argument to get a text drawing.\n",
    "qc.draw(\"mpl\")"
   ]
  },
  {
   "cell_type": "code",
   "execution_count": 28,
   "metadata": {},
   "outputs": [],
   "source": [
    "from qiskit.quantum_info import Pauli\n",
    " \n",
    "ZZ = Pauli('ZZ')\n",
    "ZI = Pauli('ZI')\n",
    "IZ = Pauli('IZ')\n",
    "XX = Pauli('XX')\n",
    "XI = Pauli('XI')\n",
    "IX = Pauli('IX')"
   ]
  },
  {
   "cell_type": "code",
   "execution_count": 29,
   "metadata": {},
   "outputs": [
    {
     "ename": "KeyboardInterrupt",
     "evalue": "",
     "output_type": "error",
     "traceback": [
      "\u001b[0;31m---------------------------------------------------------------------------\u001b[0m",
      "\u001b[0;31mKeyboardInterrupt\u001b[0m                         Traceback (most recent call last)",
      "Cell \u001b[0;32mIn[29], line 20\u001b[0m\n\u001b[1;32m     17\u001b[0m job \u001b[39m=\u001b[39m estimator\u001b[39m.\u001b[39mrun(circuits\u001b[39m=\u001b[39m[qc]\u001b[39m*\u001b[39m\u001b[39m6\u001b[39m, observables\u001b[39m=\u001b[39m[IZ, IX, ZI, XI, ZZ, XX], shots \u001b[39m=\u001b[39m \u001b[39m5000\u001b[39m)\n\u001b[1;32m     19\u001b[0m \u001b[39m# Once the job is complete, get the result\u001b[39;00m\n\u001b[0;32m---> 20\u001b[0m job\u001b[39m.\u001b[39;49mresult()\n",
      "File \u001b[0;32m/opt/conda/lib/python3.11/site-packages/qiskit_ibm_runtime/runtime_job.py:217\u001b[0m, in \u001b[0;36mRuntimeJob.result\u001b[0;34m(self, timeout, decoder)\u001b[0m\n\u001b[1;32m    215\u001b[0m _decoder \u001b[39m=\u001b[39m decoder \u001b[39mor\u001b[39;00m \u001b[39mself\u001b[39m\u001b[39m.\u001b[39m_final_result_decoder\n\u001b[1;32m    216\u001b[0m \u001b[39mif\u001b[39;00m \u001b[39mself\u001b[39m\u001b[39m.\u001b[39m_results \u001b[39mis\u001b[39;00m \u001b[39mNone\u001b[39;00m \u001b[39mor\u001b[39;00m (_decoder \u001b[39m!=\u001b[39m \u001b[39mself\u001b[39m\u001b[39m.\u001b[39m_final_result_decoder):\n\u001b[0;32m--> 217\u001b[0m     \u001b[39mself\u001b[39;49m\u001b[39m.\u001b[39;49mwait_for_final_state(timeout\u001b[39m=\u001b[39;49mtimeout)\n\u001b[1;32m    218\u001b[0m     \u001b[39mif\u001b[39;00m \u001b[39mself\u001b[39m\u001b[39m.\u001b[39m_status \u001b[39m==\u001b[39m JobStatus\u001b[39m.\u001b[39mERROR:\n\u001b[1;32m    219\u001b[0m         error_message \u001b[39m=\u001b[39m \u001b[39mself\u001b[39m\u001b[39m.\u001b[39m_reason \u001b[39mif\u001b[39;00m \u001b[39mself\u001b[39m\u001b[39m.\u001b[39m_reason \u001b[39melse\u001b[39;00m \u001b[39mself\u001b[39m\u001b[39m.\u001b[39m_error_message\n",
      "File \u001b[0;32m/opt/conda/lib/python3.11/site-packages/qiskit_ibm_runtime/runtime_job.py:306\u001b[0m, in \u001b[0;36mRuntimeJob.wait_for_final_state\u001b[0;34m(self, timeout)\u001b[0m\n\u001b[1;32m    304\u001b[0m     \u001b[39mself\u001b[39m\u001b[39m.\u001b[39m_ws_client_future \u001b[39m=\u001b[39m \u001b[39mself\u001b[39m\u001b[39m.\u001b[39m_executor\u001b[39m.\u001b[39msubmit(\u001b[39mself\u001b[39m\u001b[39m.\u001b[39m_start_websocket_client)\n\u001b[1;32m    305\u001b[0m \u001b[39mif\u001b[39;00m \u001b[39mself\u001b[39m\u001b[39m.\u001b[39m_is_streaming():\n\u001b[0;32m--> 306\u001b[0m     \u001b[39mself\u001b[39;49m\u001b[39m.\u001b[39;49m_ws_client_future\u001b[39m.\u001b[39;49mresult(timeout)\n\u001b[1;32m    307\u001b[0m \u001b[39m# poll for status after stream has closed until status is final\u001b[39;00m\n\u001b[1;32m    308\u001b[0m \u001b[39m# because status doesn't become final as soon as stream closes\u001b[39;00m\n\u001b[1;32m    309\u001b[0m status \u001b[39m=\u001b[39m \u001b[39mself\u001b[39m\u001b[39m.\u001b[39mstatus()\n",
      "File \u001b[0;32m/opt/conda/lib/python3.11/concurrent/futures/_base.py:451\u001b[0m, in \u001b[0;36mFuture.result\u001b[0;34m(self, timeout)\u001b[0m\n\u001b[1;32m    448\u001b[0m \u001b[39melif\u001b[39;00m \u001b[39mself\u001b[39m\u001b[39m.\u001b[39m_state \u001b[39m==\u001b[39m FINISHED:\n\u001b[1;32m    449\u001b[0m     \u001b[39mreturn\u001b[39;00m \u001b[39mself\u001b[39m\u001b[39m.\u001b[39m__get_result()\n\u001b[0;32m--> 451\u001b[0m \u001b[39mself\u001b[39;49m\u001b[39m.\u001b[39;49m_condition\u001b[39m.\u001b[39;49mwait(timeout)\n\u001b[1;32m    453\u001b[0m \u001b[39mif\u001b[39;00m \u001b[39mself\u001b[39m\u001b[39m.\u001b[39m_state \u001b[39min\u001b[39;00m [CANCELLED, CANCELLED_AND_NOTIFIED]:\n\u001b[1;32m    454\u001b[0m     \u001b[39mraise\u001b[39;00m CancelledError()\n",
      "File \u001b[0;32m/opt/conda/lib/python3.11/threading.py:320\u001b[0m, in \u001b[0;36mCondition.wait\u001b[0;34m(self, timeout)\u001b[0m\n\u001b[1;32m    318\u001b[0m \u001b[39mtry\u001b[39;00m:    \u001b[39m# restore state no matter what (e.g., KeyboardInterrupt)\u001b[39;00m\n\u001b[1;32m    319\u001b[0m     \u001b[39mif\u001b[39;00m timeout \u001b[39mis\u001b[39;00m \u001b[39mNone\u001b[39;00m:\n\u001b[0;32m--> 320\u001b[0m         waiter\u001b[39m.\u001b[39;49macquire()\n\u001b[1;32m    321\u001b[0m         gotit \u001b[39m=\u001b[39m \u001b[39mTrue\u001b[39;00m\n\u001b[1;32m    322\u001b[0m     \u001b[39melse\u001b[39;00m:\n",
      "\u001b[0;31mKeyboardInterrupt\u001b[0m: "
     ]
    }
   ],
   "source": [
    "from qiskit_ibm_runtime import QiskitRuntimeService, Estimator, Options\n",
    " \n",
    "# QiskitRuntimeService.save_account(channel=\"ibm_quantum\", token=\"255e6d1127c980a2c250a790cf9dbdba45f93659177e17834fad08557640f668c653045575040b1e81220bba4c82171a2bb9451e10a6a40542b5f20d2c3a8e45\", set_as_default=True)\n",
    "service = QiskitRuntimeService()\n",
    " \n",
    "# Run on the least-busy backend you have access to\n",
    "backend = service.least_busy(simulator=False, operational=True)\n",
    " \n",
    "options = Options()\n",
    "options.resilience_level = 1\n",
    "options.optimization_level = 3\n",
    " \n",
    "# Create an Estimator object\n",
    "estimator = Estimator(backend, options=options)\n",
    " \n",
    "# Submit the circuit to Estimator\n",
    "job = estimator.run(circuits=[qc]*6, observables=[IZ, IX, ZI, XI, ZZ, XX], shots = 5000)\n",
    " \n",
    "# Once the job is complete, get the result\n",
    "job.result()"
   ]
  },
  {
   "cell_type": "code",
   "execution_count": null,
   "metadata": {},
   "outputs": [
    {
     "ename": "",
     "evalue": "",
     "output_type": "error",
     "traceback": [
      "\u001b[1;31mRunning cells with '/usr/sbin/python' requires the ipykernel package.\n",
      "\u001b[1;31mRun the following command to install 'ipykernel' into the Python environment. \n",
      "\u001b[1;31mCommand: '/usr/sbin/python -m pip install ipykernel -U --user --force-reinstall'"
     ]
    }
   ],
   "source": [
    "# USE OF QUANTIC SIMULATOR \n",
    "# from qiskit import Aer\n",
    "\n",
    "# # CREATE CALCULATION ENGINE\n",
    "# backend = Aer.get_backend('statevector_simulator')\n",
    "\n",
    "# # START CALCULATION\\\n",
    "# job = backend.run(circ)\n",
    "\n",
    "# # DISPLAY RESULT, AS VECTORIAL STATES\n",
    "# result = job.result()\n",
    "\n",
    "# output_state = result.get_statevector(circ, decimals=3)\n",
    "\n",
    "# print(output_state)"
   ]
  },
  {
   "cell_type": "code",
   "execution_count": null,
   "metadata": {},
   "outputs": [
    {
     "ename": "",
     "evalue": "",
     "output_type": "error",
     "traceback": [
      "\u001b[1;31mRunning cells with '/usr/sbin/python' requires the ipykernel package.\n",
      "\u001b[1;31mRun the following command to install 'ipykernel' into the Python environment. \n",
      "\u001b[1;31mCommand: '/usr/sbin/python -m pip install ipykernel -U --user --force-reinstall'"
     ]
    }
   ],
   "source": [
    "# # DISPLAY HISTOGRAM\n",
    "# from qiskit.visualization import plot_state_city\n",
    "\n",
    "# plot_state_city(output_state)"
   ]
  }
 ],
 "metadata": {
  "kernelspec": {
   "display_name": "Python 3 (ipykernel)",
   "language": "python",
   "name": "python3"
  },
  "language_info": {
   "codemirror_mode": {
    "name": "ipython",
    "version": 3
   },
   "file_extension": ".py",
   "mimetype": "text/x-python",
   "name": "python",
   "nbconvert_exporter": "python",
   "pygments_lexer": "ipython3",
   "version": "3.11.5"
  },
  "orig_nbformat": 4
 },
 "nbformat": 4,
 "nbformat_minor": 2
}
